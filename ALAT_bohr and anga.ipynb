{
 "cells": [
  {
   "cell_type": "code",
   "execution_count": 1,
   "id": "1d7b038f",
   "metadata": {
    "scrolled": false
   },
   "outputs": [
    {
     "name": "stdout",
     "output_type": "stream",
     "text": [
      "Convert from:\n",
      "1. Angstrom to Bohr\n",
      "2. Bohr to Angstrom\n",
      "Enter 1 or 2: 1\n",
      "Enter lattice constant in angstroms: 2.839999\n",
      "Lattice constant in Bohr: 5.366820\n"
     ]
    }
   ],
   "source": [
    "# Accurate conversion factor\n",
    "angstrom_to_bohr = 1 / 0.529177210903  # ≈ 1.889726124565062\n",
    "bohr_to_angstrom = 0.529177210903      # 1 Bohr = 0.529177210903 Å\n",
    "\n",
    "# User chooses conversion direction\n",
    "choice = input(\"Convert from:\\n1. Angstrom to Bohr\\n2. Bohr to Angstrom\\nEnter 1 or 2: \")\n",
    "\n",
    "if choice == '1':\n",
    "    alat_angstrom = float(input(\"Enter lattice constant in angstroms: \"))\n",
    "    alat_bohr = alat_angstrom * angstrom_to_bohr\n",
    "    print(f\"Lattice constant in Bohr: {alat_bohr:.6f}\")\n",
    "elif choice == '2':\n",
    "    alat_bohr = float(input(\"Enter lattice constant in Bohr: \"))\n",
    "    alat_angstrom = alat_bohr * bohr_to_angstrom\n",
    "    print(f\"Lattice constant in Angstroms: {alat_angstrom:.6f}\")\n",
    "else:\n",
    "    print(\"Invalid input. Please enter 1 or 2.\")\n"
   ]
  },
  {
   "cell_type": "code",
   "execution_count": 1,
   "id": "583d6629",
   "metadata": {},
   "outputs": [
    {
     "data": {
      "text/plain": [
       "'/home/dhairya-vaidya/miniconda3/envs/kali/bin/python'"
      ]
     },
     "execution_count": 1,
     "metadata": {},
     "output_type": "execute_result"
    }
   ],
   "source": [
    "import sys\n",
    "sys.executable"
   ]
  },
  {
   "cell_type": "code",
   "execution_count": null,
   "id": "5e97e92b",
   "metadata": {},
   "outputs": [],
   "source": []
  }
 ],
 "metadata": {
  "kernelspec": {
   "display_name": "Python (kali)",
   "language": "python",
   "name": "kali"
  },
  "language_info": {
   "codemirror_mode": {
    "name": "ipython",
    "version": 3
   },
   "file_extension": ".py",
   "mimetype": "text/x-python",
   "name": "python",
   "nbconvert_exporter": "python",
   "pygments_lexer": "ipython3",
   "version": "3.10.18"
  }
 },
 "nbformat": 4,
 "nbformat_minor": 5
}
